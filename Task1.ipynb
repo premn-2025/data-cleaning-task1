{
 "cells": [
  {
   "cell_type": "code",
   "execution_count": null,
   "id": "d25ad59c",
   "metadata": {},
   "outputs": [],
   "source": [
    "import pandas as pd\n"
   ]
  },
  {
   "cell_type": "code",
   "execution_count": null,
   "id": "fd73a8ef",
   "metadata": {},
   "outputs": [],
   "source": [
    "# Load the dataset (replace 'your_dataset.csv' with the actual file name)\n",
    "df = pd.read_csv(r\"your-dataset-path\")"
   ]
  },
  {
   "cell_type": "code",
   "execution_count": null,
   "id": "2503b199",
   "metadata": {},
   "outputs": [],
   "source": [
    "# 1. Identify and handle missing values\n",
    "# Fill missing numerical values with the mean or 0\n",
    "df.fillna({'Age': df['Age'].mean(), 'income': 0}, inplace=True)\n",
    "\n",
    "# Drop rows where critical columns have missing values\n",
    "df.dropna(subset=['customer_id', 'appointment_date'], inplace=True)\n"
   ]
  },
  {
   "cell_type": "code",
   "execution_count": null,
   "id": "bc15a938",
   "metadata": {},
   "outputs": [],
   "source": [
    "# 2. Remove duplicate rows\n",
    "df.drop_duplicates(inplace=True)\n"
   ]
  },
  {
   "cell_type": "code",
   "execution_count": null,
   "id": "65a8891a",
   "metadata": {},
   "outputs": [],
   "source": [
    "# 3. Standardize text values (e.g., gender, country names)\n",
    "df['Gender'] = df['Gender'].str.lower().str.strip()  # Convert to lowercase and remove extra spaces\n",
    "df['Country'] = df['Country'].str.title()  # Capitalize the first letter of each word\n"
   ]
  },
  {
   "cell_type": "code",
   "execution_count": null,
   "id": "2bba0a5d",
   "metadata": {},
   "outputs": [],
   "source": [
    "# 4. Convert date formats to a consistent type (e.g., dd-mm-yyyy)\n",
    "df['appointment_date'] = pd.to_datetime(df['appointment_date']).dt.strftime('%d-%m-%Y')\n"
   ]
  },
  {
   "cell_type": "code",
   "execution_count": null,
   "id": "7462e5e2",
   "metadata": {},
   "outputs": [],
   "source": [
    "# 5. Rename column headers to be clean and uniform\n",
    "df.rename(columns=lambda x: x.strip().lower().replace(' ', '_'), inplace=True)"
   ]
  },
  {
   "cell_type": "code",
   "execution_count": null,
   "id": "62eae5f9",
   "metadata": {},
   "outputs": [],
   "source": [
    "# 6. Check and fix data types\n",
    "df['Age'] = df['Age'].astype(int)  # Ensure age is an integer\n",
    "df['appointment_date'] = pd.to_datetime(df['appointment_date'], format='%d-%m-%Y')  # Ensure date is datetime\n"
   ]
  },
  {
   "cell_type": "code",
   "execution_count": null,
   "id": "6e3a5a2a",
   "metadata": {},
   "outputs": [],
   "source": [
    "# 7. Save the cleaned dataset to a new file\n",
    "df.to_csv('cleaned_dataset.csv', index=False)"
   ]
  }
 ],
 "metadata": {
  "kernelspec": {
   "display_name": "Python 3",
   "language": "python",
   "name": "python3"
  },
  "language_info": {
   "codemirror_mode": {
    "name": "ipython",
    "version": 3
   },
   "file_extension": ".py",
   "mimetype": "text/x-python",
   "name": "python",
   "nbconvert_exporter": "python",
   "pygments_lexer": "ipython3",
   "version": "3.12.5"
  }
 },
 "nbformat": 4,
 "nbformat_minor": 5
}
